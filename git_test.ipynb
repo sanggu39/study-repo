## git test

print("git test 성공")

